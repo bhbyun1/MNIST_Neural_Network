{
 "cells": [
  {
   "cell_type": "code",
   "execution_count": 285,
   "metadata": {},
   "outputs": [],
   "source": [
    "import numpy as np\n",
    "from keras.utils import to_categorical\n",
    "from sklearn.datasets import fetch_openml\n",
    "from sklearn.model_selection import train_test_split\n",
    "from matplotlib import pyplot"
   ]
  },
  {
   "cell_type": "code",
   "execution_count": 286,
   "metadata": {},
   "outputs": [],
   "source": [
    "#Retrieving the MNIST data\n",
    "\n",
    "x, y = fetch_openml('mnist_784', version = 1, return_X_y = True)"
   ]
  },
  {
   "cell_type": "code",
   "execution_count": 287,
   "metadata": {},
   "outputs": [],
   "source": [
    "#Splitting up x and y into test and train sets\n",
    "\n",
    "x_train, x_test, y_train, y_test = train_test_split(x, y, test_size=10000)"
   ]
  },
  {
   "cell_type": "code",
   "execution_count": 288,
   "metadata": {},
   "outputs": [],
   "source": [
    "#Normalizing the data\n",
    "\n",
    "x_train /= 255\n",
    "x_test /= 255"
   ]
  },
  {
   "cell_type": "code",
   "execution_count": 289,
   "metadata": {},
   "outputs": [],
   "source": [
    "#Changing numpy array of strings into ints for y\n",
    "\n",
    "y_train = y_train.astype(int)\n",
    "y_test = y_test.astype(int)"
   ]
  },
  {
   "cell_type": "code",
   "execution_count": 290,
   "metadata": {},
   "outputs": [],
   "source": [
    "#Xavier initialization for weights\n",
    "\n",
    "def initialize_weights_biases():  \n",
    "    init_parameters = {}\n",
    "    init_parameters['W1'] = np.random.randn(10, 784) * np.sqrt(1 / 10)\n",
    "    init_parameters['W2'] = np.random.randn(10, 10) * np.sqrt(1 / 10)\n",
    "    init_parameters['b1'] = np.zeros((10, 1))\n",
    "    init_parameters['b2'] = np.zeros((10, 1))\n",
    "    \n",
    "    return init_parameters"
   ]
  },
  {
   "cell_type": "code",
   "execution_count": 291,
   "metadata": {},
   "outputs": [],
   "source": [
    "#Activation functions\n",
    "\n",
    "def ReLU(Z):\n",
    "    return np.maximum(Z, 0)\n",
    "\n",
    "def sigmoid(Z):\n",
    "    return 1 / (1 + np.exp(-Z))"
   ]
  },
  {
   "cell_type": "code",
   "execution_count": 292,
   "metadata": {},
   "outputs": [],
   "source": [
    "#Using ReLU as the first activation function, sigmoid as second\n",
    "\n",
    "def forward_propagation(init_parameters, x):\n",
    "    forward_parameters = {}\n",
    "    forward_parameters['A0'] = x\n",
    "    forward_parameters['Z1'] = np.dot(init_parameters['W1'], forward_parameters['A0']) + init_parameters['b1']\n",
    "    forward_parameters['A1'] = ReLU(forward_parameters['Z1'])\n",
    "    forward_parameters['Z2'] = np.dot(init_parameters['W2'], forward_parameters['A1']) + init_parameters['b2']\n",
    "    forward_parameters['A2'] = sigmoid(forward_parameters['Z2'])\n",
    "    \n",
    "    return forward_parameters"
   ]
  },
  {
   "cell_type": "code",
   "execution_count": 293,
   "metadata": {},
   "outputs": [],
   "source": [
    "#Derivatives of activation functions for back propagation\n",
    "\n",
    "def d_ReLU(Z):\n",
    "    return 1 * (Z > 0)\n",
    "\n",
    "def d_sigmoid(Z):\n",
    "    return (np.exp(-Z)) / ((np.exp(-Z) + 1) ** 2)"
   ]
  },
  {
   "cell_type": "code",
   "execution_count": 294,
   "metadata": {},
   "outputs": [],
   "source": [
    "#Back propagation to be used to update weights and biases\n",
    "\n",
    "def back_propagation(forward_parameters, init_parameters, x, y, m):\n",
    "    back_parameters = {}\n",
    "    new_y = to_categorical(y).T\n",
    "    dZ2 = forward_parameters['A2'] - new_y\n",
    "    back_parameters['dW2'] = np.dot(dZ2, forward_parameters['A1'].T) / m\n",
    "    back_parameters['db2'] = np.sum(dZ2) / m\n",
    "    dZ1 = np.dot(init_parameters['W2'].T, dZ2) * d_ReLU(forward_parameters['Z1'])\n",
    "    back_parameters['dW1'] = np.dot(dZ1, forward_parameters['A0'].T) / m\n",
    "    back_parameters['db1'] = np.sum(dZ1) / m\n",
    "    \n",
    "    return back_parameters"
   ]
  },
  {
   "cell_type": "code",
   "execution_count": 295,
   "metadata": {},
   "outputs": [],
   "source": [
    "#Updating weights and biases for the next epoch\n",
    "\n",
    "def update_parameters(init_parameters, back_parameters, learning_rate):\n",
    "    init_parameters['W1'] -= learning_rate * back_parameters['dW1']\n",
    "    init_parameters['W2'] -= learning_rate * back_parameters['dW2']\n",
    "    init_parameters['b1'] -= learning_rate * back_parameters['db1']\n",
    "    init_parameters['b2'] -= learning_rate * back_parameters['db2']\n",
    "    \n",
    "    return"
   ]
  },
  {
   "cell_type": "code",
   "execution_count": 296,
   "metadata": {},
   "outputs": [],
   "source": [
    "#Training the neural network to distinguish digits from the MNIST data\n",
    "#Optionally shows accuracy for given intervals, off by default\n",
    "\n",
    "def begin_training(x, y, learning_rate, epochs, m, showProgress = 0):\n",
    "    init_parameters = initialize_weights_biases()\n",
    "    for i in range(epochs):\n",
    "        forward_parameters = forward_propagation(init_parameters, x)\n",
    "        back_parameters = back_propagation(forward_parameters, init_parameters, x, y, m)\n",
    "        update_parameters(init_parameters, back_parameters, learning_rate)\n",
    "        if showProgress > 0:\n",
    "            if i % showProgress == 0:\n",
    "                print(str(i) + \": \" + str(np.sum(np.argmax(forward_parameters['A2'], 0) == y) / y.size) + \"%\")\n",
    "                \n",
    "    return init_parameters"
   ]
  },
  {
   "cell_type": "code",
   "execution_count": null,
   "metadata": {},
   "outputs": [
    {
     "name": "stdout",
     "output_type": "stream",
     "text": [
      "0: 0.06621666666666666%\n",
      "10: 0.16086666666666666%\n",
      "20: 0.25015%\n",
      "30: 0.2993166666666667%\n",
      "40: 0.33026666666666665%\n",
      "50: 0.35345%\n",
      "60: 0.37245%\n",
      "70: 0.39208333333333334%\n",
      "80: 0.40976666666666667%\n",
      "90: 0.4278166666666667%\n",
      "100: 0.44575%\n",
      "110: 0.46265%\n",
      "120: 0.48168333333333335%\n",
      "130: 0.5027%\n",
      "140: 0.5278166666666667%\n",
      "150: 0.55245%\n",
      "160: 0.5749833333333333%\n",
      "170: 0.5945333333333334%\n",
      "180: 0.6113%\n",
      "190: 0.6259166666666667%\n",
      "200: 0.6375333333333333%\n",
      "210: 0.6466333333333333%\n",
      "220: 0.6554333333333333%\n",
      "230: 0.6632666666666667%\n",
      "240: 0.67015%\n",
      "250: 0.6763666666666667%\n",
      "260: 0.6829333333333333%\n",
      "270: 0.6884%\n",
      "280: 0.6934833333333333%\n",
      "290: 0.6987333333333333%\n",
      "300: 0.7033166666666667%\n",
      "310: 0.7084666666666667%\n",
      "320: 0.7139333333333333%\n",
      "330: 0.7196166666666667%\n",
      "340: 0.7254%\n",
      "350: 0.7311666666666666%\n",
      "360: 0.7370833333333333%\n",
      "370: 0.74275%\n",
      "380: 0.74855%\n",
      "390: 0.7541166666666667%\n",
      "400: 0.7593%\n",
      "410: 0.7647166666666667%\n",
      "420: 0.7699666666666667%\n",
      "430: 0.774%\n",
      "440: 0.77825%\n",
      "450: 0.7817166666666666%\n",
      "460: 0.7854333333333333%\n",
      "470: 0.7884%\n"
     ]
    }
   ],
   "source": [
    "results = begin_training(x_train.T, y_train.T, 0.10, 500, 70000, 10)"
   ]
  },
  {
   "cell_type": "code",
   "execution_count": null,
   "metadata": {},
   "outputs": [],
   "source": [
    "def test_results(index, results):\n",
    "    number = x_test.T[:, index, None]\n",
    "    temp = forward_propagation(results, number)\n",
    "    prediction = np.argmax(temp['A2'], 0)\n",
    "    print(\"Prediction: \" + str(prediction) + \" | \" + \"Actual: \" + str(y_test.T[index]))\n",
    "    \n",
    "    pyplot.imshow(number.reshape((28, 28)), cmap=plt.get_cmap('gray'))\n",
    "    pyplot.show()\n",
    "    \n",
    "    return"
   ]
  },
  {
   "cell_type": "code",
   "execution_count": null,
   "metadata": {},
   "outputs": [],
   "source": [
    "test_results(np.random.randint(0, 9999), results)\n",
    "test_results(np.random.randint(0, 9999), results)\n",
    "test_results(np.random.randint(0, 9999), results)\n",
    "test_results(np.random.randint(0, 9999), results)\n",
    "test_results(np.random.randint(0, 9999), results)"
   ]
  },
  {
   "cell_type": "code",
   "execution_count": null,
   "metadata": {},
   "outputs": [],
   "source": []
  }
 ],
 "metadata": {
  "kernelspec": {
   "display_name": "Python 3",
   "language": "python",
   "name": "python3"
  },
  "language_info": {
   "codemirror_mode": {
    "name": "ipython",
    "version": 3
   },
   "file_extension": ".py",
   "mimetype": "text/x-python",
   "name": "python",
   "nbconvert_exporter": "python",
   "pygments_lexer": "ipython3",
   "version": "3.7.3"
  }
 },
 "nbformat": 4,
 "nbformat_minor": 2
}
